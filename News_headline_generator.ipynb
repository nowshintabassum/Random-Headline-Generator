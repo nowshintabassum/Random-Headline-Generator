{
  "nbformat": 4,
  "nbformat_minor": 0,
  "metadata": {
    "colab": {
      "name": "News headline generator.ipynb",
      "provenance": [],
      "authorship_tag": "ABX9TyMl/V2Yr50DdhmeEyJSFGPi"
    },
    "kernelspec": {
      "name": "python3",
      "display_name": "Python 3"
    },
    "language_info": {
      "name": "python"
    }
  },
  "cells": [
    {
      "cell_type": "code",
      "metadata": {
        "id": "DN1Jxy79J5Zi"
      },
      "source": [
        "!pip install markovify"
      ],
      "execution_count": null,
      "outputs": []
    },
    {
      "cell_type": "code",
      "metadata": {
        "id": "QyZcN3dPKGRC"
      },
      "source": [
        "import pandas as pd # data processing, CSV file I/O (e.g. pd.read_csv)\n",
        "import markovify #Markov Chain Generator"
      ],
      "execution_count": 2,
      "outputs": []
    },
    {
      "cell_type": "markdown",
      "metadata": {
        "id": "8UC9H9AfLFV1"
      },
      "source": [
        "#READING NEWS DATA"
      ]
    },
    {
      "cell_type": "code",
      "metadata": {
        "colab": {
          "base_uri": "https://localhost:8080/",
          "height": 321
        },
        "id": "wYwhG7qHKPgB",
        "outputId": "51d899be-bd38-4eed-bfa0-753cf079f12f"
      },
      "source": [
        "news_data = pd.read_json('/content/19-04-2021-12-16-Env-Science-Business.json')\n",
        "\n",
        "news_data.head(5)"
      ],
      "execution_count": 11,
      "outputs": [
        {
          "output_type": "execute_result",
          "data": {
            "text/html": [
              "<div>\n",
              "<style scoped>\n",
              "    .dataframe tbody tr th:only-of-type {\n",
              "        vertical-align: middle;\n",
              "    }\n",
              "\n",
              "    .dataframe tbody tr th {\n",
              "        vertical-align: top;\n",
              "    }\n",
              "\n",
              "    .dataframe thead th {\n",
              "        text-align: right;\n",
              "    }\n",
              "</style>\n",
              "<table border=\"1\" class=\"dataframe\">\n",
              "  <thead>\n",
              "    <tr style=\"text-align: right;\">\n",
              "      <th></th>\n",
              "      <th>Headline</th>\n",
              "      <th>Description</th>\n",
              "      <th>URL</th>\n",
              "      <th>Date</th>\n",
              "      <th>Category</th>\n",
              "      <th>Content</th>\n",
              "    </tr>\n",
              "  </thead>\n",
              "  <tbody>\n",
              "    <tr>\n",
              "      <th>0</th>\n",
              "      <td>Govt bans fishing in the Bay of Bengal for 65 ...</td>\n",
              "      <td>The government has imposed a 65-day ban on fis...</td>\n",
              "      <td>https://www.thedailystar.net/environment/news/...</td>\n",
              "      <td>2021-04-15 20:22:00</td>\n",
              "      <td>Environment</td>\n",
              "      <td>The government has imposed a 65-day ban on fis...</td>\n",
              "    </tr>\n",
              "    <tr>\n",
              "      <th>1</th>\n",
              "      <td>Mosquito menace: Mymensingh City Corporation r...</td>\n",
              "      <td>To protect city dwellers from mosquito menace,...</td>\n",
              "      <td>https://www.thedailystar.net/environment/news/...</td>\n",
              "      <td>2021-04-13 18:45:00</td>\n",
              "      <td>Environment</td>\n",
              "      <td>To protect city dwellers from mosquito menace,...</td>\n",
              "    </tr>\n",
              "    <tr>\n",
              "      <th>2</th>\n",
              "      <td>USAID to launch $17 million multi-year project...</td>\n",
              "      <td>USAID will soon launch a multi-year project of...</td>\n",
              "      <td>https://www.thedailystar.net/environment/news/...</td>\n",
              "      <td>2021-04-10 18:29:00</td>\n",
              "      <td>Environment</td>\n",
              "      <td>USAID will soon launch a multi-year project of...</td>\n",
              "    </tr>\n",
              "    <tr>\n",
              "      <th>3</th>\n",
              "      <td>Authorities destroy 1500m fishing net, mechani...</td>\n",
              "      <td>Local administration today destroyed at least ...</td>\n",
              "      <td>https://www.thedailystar.net/environment/news/...</td>\n",
              "      <td>2021-04-15 17:59:00</td>\n",
              "      <td>Environment</td>\n",
              "      <td>Local administration today destroyed at least ...</td>\n",
              "    </tr>\n",
              "    <tr>\n",
              "      <th>4</th>\n",
              "      <td>12 sentenced to jail, one fined for illegal sa...</td>\n",
              "      <td>A mobile court sentenced 12 people to three da...</td>\n",
              "      <td>https://www.thedailystar.net/environment/news/...</td>\n",
              "      <td>2021-04-13 17:16:00</td>\n",
              "      <td>Environment</td>\n",
              "      <td>A mobile court sentenced 12 people to three da...</td>\n",
              "    </tr>\n",
              "  </tbody>\n",
              "</table>\n",
              "</div>"
            ],
            "text/plain": [
              "                                            Headline  ...                                            Content\n",
              "0  Govt bans fishing in the Bay of Bengal for 65 ...  ...  The government has imposed a 65-day ban on fis...\n",
              "1  Mosquito menace: Mymensingh City Corporation r...  ...  To protect city dwellers from mosquito menace,...\n",
              "2  USAID to launch $17 million multi-year project...  ...  USAID will soon launch a multi-year project of...\n",
              "3  Authorities destroy 1500m fishing net, mechani...  ...  Local administration today destroyed at least ...\n",
              "4  12 sentenced to jail, one fined for illegal sa...  ...  A mobile court sentenced 12 people to three da...\n",
              "\n",
              "[5 rows x 6 columns]"
            ]
          },
          "metadata": {
            "tags": []
          },
          "execution_count": 11
        }
      ]
    },
    {
      "cell_type": "code",
      "metadata": {
        "colab": {
          "base_uri": "https://localhost:8080/",
          "height": 203
        },
        "id": "cBitS_obKVm-",
        "outputId": "d955211b-76e2-4656-c089-e065c742cebc"
      },
      "source": [
        "news_data = news_data.iloc[:,:2]\n",
        "news_data.head(5)"
      ],
      "execution_count": 12,
      "outputs": [
        {
          "output_type": "execute_result",
          "data": {
            "text/html": [
              "<div>\n",
              "<style scoped>\n",
              "    .dataframe tbody tr th:only-of-type {\n",
              "        vertical-align: middle;\n",
              "    }\n",
              "\n",
              "    .dataframe tbody tr th {\n",
              "        vertical-align: top;\n",
              "    }\n",
              "\n",
              "    .dataframe thead th {\n",
              "        text-align: right;\n",
              "    }\n",
              "</style>\n",
              "<table border=\"1\" class=\"dataframe\">\n",
              "  <thead>\n",
              "    <tr style=\"text-align: right;\">\n",
              "      <th></th>\n",
              "      <th>Headline</th>\n",
              "      <th>Description</th>\n",
              "    </tr>\n",
              "  </thead>\n",
              "  <tbody>\n",
              "    <tr>\n",
              "      <th>0</th>\n",
              "      <td>Govt bans fishing in the Bay of Bengal for 65 ...</td>\n",
              "      <td>The government has imposed a 65-day ban on fis...</td>\n",
              "    </tr>\n",
              "    <tr>\n",
              "      <th>1</th>\n",
              "      <td>Mosquito menace: Mymensingh City Corporation r...</td>\n",
              "      <td>To protect city dwellers from mosquito menace,...</td>\n",
              "    </tr>\n",
              "    <tr>\n",
              "      <th>2</th>\n",
              "      <td>USAID to launch $17 million multi-year project...</td>\n",
              "      <td>USAID will soon launch a multi-year project of...</td>\n",
              "    </tr>\n",
              "    <tr>\n",
              "      <th>3</th>\n",
              "      <td>Authorities destroy 1500m fishing net, mechani...</td>\n",
              "      <td>Local administration today destroyed at least ...</td>\n",
              "    </tr>\n",
              "    <tr>\n",
              "      <th>4</th>\n",
              "      <td>12 sentenced to jail, one fined for illegal sa...</td>\n",
              "      <td>A mobile court sentenced 12 people to three da...</td>\n",
              "    </tr>\n",
              "  </tbody>\n",
              "</table>\n",
              "</div>"
            ],
            "text/plain": [
              "                                            Headline                                        Description\n",
              "0  Govt bans fishing in the Bay of Bengal for 65 ...  The government has imposed a 65-day ban on fis...\n",
              "1  Mosquito menace: Mymensingh City Corporation r...  To protect city dwellers from mosquito menace,...\n",
              "2  USAID to launch $17 million multi-year project...  USAID will soon launch a multi-year project of...\n",
              "3  Authorities destroy 1500m fishing net, mechani...  Local administration today destroyed at least ...\n",
              "4  12 sentenced to jail, one fined for illegal sa...  A mobile court sentenced 12 people to three da..."
            ]
          },
          "metadata": {
            "tags": []
          },
          "execution_count": 12
        }
      ]
    },
    {
      "cell_type": "code",
      "metadata": {
        "colab": {
          "base_uri": "https://localhost:8080/"
        },
        "id": "inZtT5udKpjg",
        "outputId": "ce5a1b65-98e6-4fa2-df55-9a58a49b8778"
      },
      "source": [
        "import random\n",
        "news_data.Headline[random.sample(range(100), 10)]"
      ],
      "execution_count": 14,
      "outputs": [
        {
          "output_type": "execute_result",
          "data": {
            "text/plain": [
              "34    HC issues 3 more directives to keep Dhaka's ai...\n",
              "48        DoE demolishes five brick kilns in Chattogram\n",
              "40    50 people reach Kurigram town by boats; besieg...\n",
              "4     12 sentenced to jail, one fined for illegal sa...\n",
              "23    Bangladesh seeks US's technical support in pre...\n",
              "66    54 exotic birds smuggled from Bangladesh, seiz...\n",
              "55    DoE Chattogram fines 13 businesses Tk 13.89 la...\n",
              "60    'Protect Sangu-Matamuhuri sanctuary, reserve f...\n",
              "87    Hydroponics grass could be the answer to Kurig...\n",
              "52              5 Illegal brick kilns fined in Kurigram\n",
              "Name: Headline, dtype: object"
            ]
          },
          "metadata": {
            "tags": []
          },
          "execution_count": 14
        }
      ]
    },
    {
      "cell_type": "markdown",
      "metadata": {
        "id": "ZVwbV0auLLA-"
      },
      "source": [
        "##Building the text model with Markov Chain"
      ]
    },
    {
      "cell_type": "code",
      "metadata": {
        "id": "V0oN5ejbK8Sf"
      },
      "source": [
        "text_model = markovify.NewlineText(news_data.Headline, state_size = 2)"
      ],
      "execution_count": 15,
      "outputs": []
    },
    {
      "cell_type": "markdown",
      "metadata": {
        "id": "NJUqdRE3LVM9"
      },
      "source": [
        "##Time for some fun with Autogenerated Headlines"
      ]
    },
    {
      "cell_type": "code",
      "metadata": {
        "colab": {
          "base_uri": "https://localhost:8080/"
        },
        "id": "6LwfkXxGLScx",
        "outputId": "79502cc6-12b0-4029-eeb8-ad4b39b8ee40"
      },
      "source": [
        "# Print ten randomly-generated sentences using the built model\n",
        "for i in range(10):\n",
        "    print(\"Headline : \" ,text_model.make_sentence())"
      ],
      "execution_count": 21,
      "outputs": [
        {
          "output_type": "stream",
          "text": [
            "Headline :  8 tanneries in Savar fined Tk 20 lakh by DoE\n",
            "Headline :  Shipyard, 22 brick kilns in Ctg\n",
            "Headline :  DoE fines man Tk 10 lakh for damaging hills in Bandarban\n",
            "Headline :  SC clears way to shut for polluting air\n",
            "Headline :  Flood worsens in Gaibandha, Bogura\n",
            "Headline :  Star report prompts conservation action along the beaches of Cox's Bazar in the Bay of Bengal for 65 days\n",
            "Headline :  Asian Paper Mill ordered to shut down illegal brick kiln in Savar fined Tk 85.5 lakh for polluting Beerja canal in Ctg\n",
            "Headline :  Injured bearcat finds its way to shut for polluting environment\n",
            "Headline :  Bangladesh among Asian countries with highest antibiotic river pollution: Study\n",
            "Headline :  Asian Paper Mill ordered to shut down illegal brick kilns in 5 districts: DoE\n"
          ],
          "name": "stdout"
        }
      ]
    },
    {
      "cell_type": "code",
      "metadata": {
        "colab": {
          "base_uri": "https://localhost:8080/"
        },
        "id": "DLo8RaZJLZYW",
        "outputId": "9b3102c7-a0ee-4bd3-c1f4-f981be7526a6"
      },
      "source": [
        "news_data.Headline[news_data.Headline.str.contains(\"20 businesses including shipyard, hospital fined Tk 21 lakh as compensation for environmental damage\")]"
      ],
      "execution_count": 19,
      "outputs": [
        {
          "output_type": "execute_result",
          "data": {
            "text/plain": [
              "Series([], Name: Headline, dtype: object)"
            ]
          },
          "metadata": {
            "tags": []
          },
          "execution_count": 19
        }
      ]
    },
    {
      "cell_type": "code",
      "metadata": {
        "id": "ZyjUgO_KL0Ue"
      },
      "source": [
        ""
      ],
      "execution_count": null,
      "outputs": []
    }
  ]
}